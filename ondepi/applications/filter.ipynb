{
 "cells": [
  {
   "cell_type": "code",
   "execution_count": 1,
   "metadata": {},
   "outputs": [],
   "source": [
    "from ondepi.applications import price_level as pl\n",
    "from ondepi.visualisations import sample as plot_sample\n",
    "from ondepi.resources import utils"
   ]
  },
  {
   "cell_type": "code",
   "execution_count": 2,
   "metadata": {},
   "outputs": [],
   "source": [
    "symbol = 'INTC'\n",
    "date = '2019-01-31'\n",
    "price_level = 466000\n",
    "direction = 1\n",
    "std_size = 500\n",
    "t0 = 1.05e3\n",
    "t1 = 1.50e3\n",
    "reset_time_origin = True"
   ]
  },
  {
   "cell_type": "code",
   "execution_count": 3,
   "metadata": {},
   "outputs": [
    {
     "name": "stderr",
     "output_type": "stream",
     "text": [
      "symbol: INTC\n",
      "date: 2019-01-31\n",
      "direction: 1\n",
      "price_level: 466000\n",
      "std_size: 500\n",
      "reset_time_origin: True\n"
     ]
    }
   ],
   "source": [
    "queue = pl.init_queue_on_lobster_data(\n",
    "    symbol=symbol, date=date,\n",
    "    price_level=price_level, direction=direction, std_size=std_size,\n",
    "    t0=t0, t1=t1, reset_time_origin=reset_time_origin\n",
    ")"
   ]
  },
  {
   "cell_type": "code",
   "execution_count": 4,
   "metadata": {},
   "outputs": [],
   "source": [
    "queue = pl.set_param(queue)"
   ]
  },
  {
   "cell_type": "code",
   "execution_count": 5,
   "metadata": {},
   "outputs": [],
   "source": [
    "df = queue.get_df_sample()"
   ]
  },
  {
   "cell_type": "code",
   "execution_count": 6,
   "metadata": {},
   "outputs": [
    {
     "data": {
      "image/png": "[encoded data removed]",
      "text/plain": [
       "<Figure size 720x432 with 1 Axes>"
      ]
     },
     "metadata": {
      "needs_background": "light"
     },
     "output_type": "display_data"
    }
   ],
   "source": [
    "ax = plot_sample.plot_reconstructed_volumes(df, time_i_range=None)"
   ]
  },
  {
   "cell_type": "code",
   "execution_count": 42,
   "metadata": {},
   "outputs": [],
   "source": [
    "queue.simulate(max_time=10.0e3, max_events=10.0e3, first_event=1, first_state=5)"
   ]
  },
  {
   "cell_type": "code",
   "execution_count": 43,
   "metadata": {},
   "outputs": [],
   "source": [
    "df = queue.get_df_sample()"
   ]
  },
  {
   "cell_type": "code",
   "execution_count": 44,
   "metadata": {},
   "outputs": [
    {
     "data": {
      "image/png": "[encoded data removed]",
      "text/plain": [
       "<Figure size 720x432 with 1 Axes>"
      ]
     },
     "metadata": {
      "needs_background": "light"
     },
     "output_type": "display_data"
    }
   ],
   "source": [
    "ax = plot_sample.plot_reconstructed_volumes(df, time_i_range=None)"
   ]
  },
  {
   "cell_type": "code",
   "execution_count": 45,
   "metadata": {},
   "outputs": [],
   "source": [
    "queue.filter(dt=7.5e-3, num_states=30)"
   ]
  },
  {
   "cell_type": "code",
   "execution_count": 46,
   "metadata": {},
   "outputs": [],
   "source": [
    "df = pl.produce_df_detection(queue, beta=1.0e-2)"
   ]
  },
  {
   "cell_type": "code",
   "execution_count": 47,
   "metadata": {},
   "outputs": [
    {
     "data": {
      "text/html": [
       "<div>\n",
       "<style scoped>\n",
       "    .dataframe tbody tr th:only-of-type {\n",
       "        vertical-align: middle;\n",
       "    }\n",
       "\n",
       "    .dataframe tbody tr th {\n",
       "        vertical-align: top;\n",
       "    }\n",
       "\n",
       "    .dataframe thead th {\n",
       "        text-align: right;\n",
       "    }\n",
       "</style>\n",
       "<table border=\"1\" class=\"dataframe\">\n",
       "  <thead>\n",
       "    <tr style=\"text-align: right;\">\n",
       "      <th></th>\n",
       "      <th>idx</th>\n",
       "      <th>time sample</th>\n",
       "      <th>time filter</th>\n",
       "      <th>state</th>\n",
       "      <th>expected val</th>\n",
       "      <th>predictor</th>\n",
       "      <th>error</th>\n",
       "    </tr>\n",
       "  </thead>\n",
       "  <tbody>\n",
       "    <tr>\n",
       "      <th>0</th>\n",
       "      <td>0</td>\n",
       "      <td>0.000000</td>\n",
       "      <td>0.000000</td>\n",
       "      <td>5</td>\n",
       "      <td>5.000000</td>\n",
       "      <td>5.000000</td>\n",
       "      <td>0.000000</td>\n",
       "    </tr>\n",
       "    <tr>\n",
       "      <th>1</th>\n",
       "      <td>581358</td>\n",
       "      <td>58.135804</td>\n",
       "      <td>58.135804</td>\n",
       "      <td>4</td>\n",
       "      <td>6.337271</td>\n",
       "      <td>5.329825</td>\n",
       "      <td>-1.329825</td>\n",
       "    </tr>\n",
       "    <tr>\n",
       "      <th>2</th>\n",
       "      <td>738788</td>\n",
       "      <td>73.878803</td>\n",
       "      <td>73.878803</td>\n",
       "      <td>5</td>\n",
       "      <td>6.971173</td>\n",
       "      <td>5.803690</td>\n",
       "      <td>-0.803690</td>\n",
       "    </tr>\n",
       "    <tr>\n",
       "      <th>3</th>\n",
       "      <td>766411</td>\n",
       "      <td>76.641110</td>\n",
       "      <td>76.641110</td>\n",
       "      <td>4</td>\n",
       "      <td>6.081858</td>\n",
       "      <td>5.862149</td>\n",
       "      <td>-1.862149</td>\n",
       "    </tr>\n",
       "    <tr>\n",
       "      <th>4</th>\n",
       "      <td>885638</td>\n",
       "      <td>88.563826</td>\n",
       "      <td>88.563826</td>\n",
       "      <td>5</td>\n",
       "      <td>6.562141</td>\n",
       "      <td>6.069367</td>\n",
       "      <td>-1.069367</td>\n",
       "    </tr>\n",
       "    <tr>\n",
       "      <th>...</th>\n",
       "      <td>...</td>\n",
       "      <td>...</td>\n",
       "      <td>...</td>\n",
       "      <td>...</td>\n",
       "      <td>...</td>\n",
       "      <td>...</td>\n",
       "      <td>...</td>\n",
       "    </tr>\n",
       "    <tr>\n",
       "      <th>1887</th>\n",
       "      <td>98631837</td>\n",
       "      <td>9863.183773</td>\n",
       "      <td>9863.183773</td>\n",
       "      <td>4</td>\n",
       "      <td>13.029478</td>\n",
       "      <td>12.206426</td>\n",
       "      <td>-8.206426</td>\n",
       "    </tr>\n",
       "    <tr>\n",
       "      <th>1888</th>\n",
       "      <td>98638940</td>\n",
       "      <td>9863.894037</td>\n",
       "      <td>9863.894037</td>\n",
       "      <td>3</td>\n",
       "      <td>12.901405</td>\n",
       "      <td>12.249256</td>\n",
       "      <td>-9.249256</td>\n",
       "    </tr>\n",
       "    <tr>\n",
       "      <th>1889</th>\n",
       "      <td>98650200</td>\n",
       "      <td>9865.020000</td>\n",
       "      <td>9865.020000</td>\n",
       "      <td>2</td>\n",
       "      <td>12.236527</td>\n",
       "      <td>12.248555</td>\n",
       "      <td>-10.248555</td>\n",
       "    </tr>\n",
       "    <tr>\n",
       "      <th>1890</th>\n",
       "      <td>98671277</td>\n",
       "      <td>9867.127744</td>\n",
       "      <td>9867.127744</td>\n",
       "      <td>1</td>\n",
       "      <td>10.646034</td>\n",
       "      <td>12.153052</td>\n",
       "      <td>-11.153052</td>\n",
       "    </tr>\n",
       "    <tr>\n",
       "      <th>1891</th>\n",
       "      <td>99142884</td>\n",
       "      <td>9914.288436</td>\n",
       "      <td>9914.288436</td>\n",
       "      <td>0</td>\n",
       "      <td>2.693309</td>\n",
       "      <td>6.944780</td>\n",
       "      <td>-6.944780</td>\n",
       "    </tr>\n",
       "  </tbody>\n",
       "</table>\n",
       "<p>1892 rows × 7 columns</p>\n",
       "</div>"
      ],
      "text/plain": [
       "           idx  time sample  time filter  state  expected val  predictor  \\\n",
       "0            0     0.000000     0.000000      5      5.000000   5.000000   \n",
       "1       581358    58.135804    58.135804      4      6.337271   5.329825   \n",
       "2       738788    73.878803    73.878803      5      6.971173   5.803690   \n",
       "3       766411    76.641110    76.641110      4      6.081858   5.862149   \n",
       "4       885638    88.563826    88.563826      5      6.562141   6.069367   \n",
       "...        ...          ...          ...    ...           ...        ...   \n",
       "1887  98631837  9863.183773  9863.183773      4     13.029478  12.206426   \n",
       "1888  98638940  9863.894037  9863.894037      3     12.901405  12.249256   \n",
       "1889  98650200  9865.020000  9865.020000      2     12.236527  12.248555   \n",
       "1890  98671277  9867.127744  9867.127744      1     10.646034  12.153052   \n",
       "1891  99142884  9914.288436  9914.288436      0      2.693309   6.944780   \n",
       "\n",
       "          error  \n",
       "0      0.000000  \n",
       "1     -1.329825  \n",
       "2     -0.803690  \n",
       "3     -1.862149  \n",
       "4     -1.069367  \n",
       "...         ...  \n",
       "1887  -8.206426  \n",
       "1888  -9.249256  \n",
       "1889 -10.248555  \n",
       "1890 -11.153052  \n",
       "1891  -6.944780  \n",
       "\n",
       "[1892 rows x 7 columns]"
      ]
     },
     "execution_count": 47,
     "metadata": {},
     "output_type": "execute_result"
    }
   ],
   "source": [
    "df"
   ]
  },
  {
   "cell_type": "code",
   "execution_count": 48,
   "metadata": {},
   "outputs": [
    {
     "data": {
      "text/html": [
       "<div>\n",
       "<style scoped>\n",
       "    .dataframe tbody tr th:only-of-type {\n",
       "        vertical-align: middle;\n",
       "    }\n",
       "\n",
       "    .dataframe tbody tr th {\n",
       "        vertical-align: top;\n",
       "    }\n",
       "\n",
       "    .dataframe thead th {\n",
       "        text-align: right;\n",
       "    }\n",
       "</style>\n",
       "<table border=\"1\" class=\"dataframe\">\n",
       "  <thead>\n",
       "    <tr style=\"text-align: right;\">\n",
       "      <th></th>\n",
       "      <th>idx</th>\n",
       "      <th>time sample</th>\n",
       "      <th>time filter</th>\n",
       "      <th>state</th>\n",
       "      <th>expected val</th>\n",
       "      <th>predictor</th>\n",
       "      <th>error</th>\n",
       "    </tr>\n",
       "  </thead>\n",
       "  <tbody>\n",
       "    <tr>\n",
       "      <th>count</th>\n",
       "      <td>1.892000e+03</td>\n",
       "      <td>1892.000000</td>\n",
       "      <td>1892.000000</td>\n",
       "      <td>1892.000000</td>\n",
       "      <td>1892.000000</td>\n",
       "      <td>1892.000000</td>\n",
       "      <td>1892.000000</td>\n",
       "    </tr>\n",
       "    <tr>\n",
       "      <th>mean</th>\n",
       "      <td>5.009680e+07</td>\n",
       "      <td>5009.680409</td>\n",
       "      <td>5009.680409</td>\n",
       "      <td>2.421776</td>\n",
       "      <td>15.448510</td>\n",
       "      <td>10.774314</td>\n",
       "      <td>-8.352538</td>\n",
       "    </tr>\n",
       "    <tr>\n",
       "      <th>std</th>\n",
       "      <td>2.747111e+07</td>\n",
       "      <td>2747.111307</td>\n",
       "      <td>2747.111307</td>\n",
       "      <td>1.985327</td>\n",
       "      <td>5.400503</td>\n",
       "      <td>6.613117</td>\n",
       "      <td>6.688916</td>\n",
       "    </tr>\n",
       "    <tr>\n",
       "      <th>min</th>\n",
       "      <td>0.000000e+00</td>\n",
       "      <td>0.000000</td>\n",
       "      <td>0.000000</td>\n",
       "      <td>0.000000</td>\n",
       "      <td>0.401825</td>\n",
       "      <td>0.999786</td>\n",
       "      <td>-22.873009</td>\n",
       "    </tr>\n",
       "    <tr>\n",
       "      <th>25%</th>\n",
       "      <td>2.812399e+07</td>\n",
       "      <td>2812.399209</td>\n",
       "      <td>2812.399209</td>\n",
       "      <td>1.000000</td>\n",
       "      <td>11.947768</td>\n",
       "      <td>3.800736</td>\n",
       "      <td>-13.538476</td>\n",
       "    </tr>\n",
       "    <tr>\n",
       "      <th>50%</th>\n",
       "      <td>4.908927e+07</td>\n",
       "      <td>4908.926805</td>\n",
       "      <td>4908.926805</td>\n",
       "      <td>2.000000</td>\n",
       "      <td>15.769096</td>\n",
       "      <td>10.909978</td>\n",
       "      <td>-8.233728</td>\n",
       "    </tr>\n",
       "    <tr>\n",
       "      <th>75%</th>\n",
       "      <td>7.513752e+07</td>\n",
       "      <td>7513.752286</td>\n",
       "      <td>7513.752286</td>\n",
       "      <td>3.000000</td>\n",
       "      <td>19.945085</td>\n",
       "      <td>16.171181</td>\n",
       "      <td>-2.272973</td>\n",
       "    </tr>\n",
       "    <tr>\n",
       "      <th>max</th>\n",
       "      <td>9.914288e+07</td>\n",
       "      <td>9914.288436</td>\n",
       "      <td>9914.288436</td>\n",
       "      <td>11.000000</td>\n",
       "      <td>25.360199</td>\n",
       "      <td>23.054171</td>\n",
       "      <td>6.104253</td>\n",
       "    </tr>\n",
       "  </tbody>\n",
       "</table>\n",
       "</div>"
      ],
      "text/plain": [
       "                idx  time sample  time filter        state  expected val  \\\n",
       "count  1.892000e+03  1892.000000  1892.000000  1892.000000   1892.000000   \n",
       "mean   5.009680e+07  5009.680409  5009.680409     2.421776     15.448510   \n",
       "std    2.747111e+07  2747.111307  2747.111307     1.985327      5.400503   \n",
       "min    0.000000e+00     0.000000     0.000000     0.000000      0.401825   \n",
       "25%    2.812399e+07  2812.399209  2812.399209     1.000000     11.947768   \n",
       "50%    4.908927e+07  4908.926805  4908.926805     2.000000     15.769096   \n",
       "75%    7.513752e+07  7513.752286  7513.752286     3.000000     19.945085   \n",
       "max    9.914288e+07  9914.288436  9914.288436    11.000000     25.360199   \n",
       "\n",
       "         predictor        error  \n",
       "count  1892.000000  1892.000000  \n",
       "mean     10.774314    -8.352538  \n",
       "std       6.613117     6.688916  \n",
       "min       0.999786   -22.873009  \n",
       "25%       3.800736   -13.538476  \n",
       "50%      10.909978    -8.233728  \n",
       "75%      16.171181    -2.272973  \n",
       "max      23.054171     6.104253  "
      ]
     },
     "execution_count": 48,
     "metadata": {},
     "output_type": "execute_result"
    }
   ],
   "source": [
    "df.describe()"
   ]
  },
  {
   "cell_type": "code",
   "execution_count": 53,
   "metadata": {},
   "outputs": [
    {
     "data": {
      "text/plain": [
       "<AxesSubplot:>"
      ]
     },
     "execution_count": 53,
     "metadata": {},
     "output_type": "execute_result"
    },
    {
     "data": {
      "image/png": "[encoded data removed]",
      "text/plain": [
       "<Figure size 432x288 with 1 Axes>"
      ]
     },
     "metadata": {
      "needs_background": "light"
     },
     "output_type": "display_data"
    }
   ],
   "source": [
    "df[['state', 'expected val', 'predictor']].iloc[850:1010,:].plot()"
   ]
  },
  {
   "cell_type": "code",
   "execution_count": 51,
   "metadata": {},
   "outputs": [],
   "source": [
    "df_intensity = queue.get_df_intensity_process()"
   ]
  },
  {
   "cell_type": "code",
   "execution_count": 52,
   "metadata": {},
   "outputs": [
    {
     "data": {
      "text/plain": [
       "<AxesSubplot:xlabel='time'>"
      ]
     },
     "execution_count": 52,
     "metadata": {},
     "output_type": "execute_result"
    },
    {
     "data": {
      "image/png": "[encoded data removed]",
      "text/plain": [
       "<Figure size 432x288 with 1 Axes>"
      ]
     },
     "metadata": {
      "needs_background": "light"
     },
     "output_type": "display_data"
    }
   ],
   "source": [
    "df_intensity.set_index('time').plot()"
   ]
  },
  {
   "cell_type": "code",
   "execution_count": null,
   "metadata": {},
   "outputs": [],
   "source": []
  }
 ],
 "metadata": {
  "kernelspec": {
   "display_name": "ondepi",
   "language": "python",
   "name": "ondepi"
  },
  "language_info": {
   "codemirror_mode": {
    "name": "ipython",
    "version": 3
   },
   "file_extension": ".py",
   "mimetype": "text/x-python",
   "name": "python",
   "nbconvert_exporter": "python",
   "pygments_lexer": "ipython3",
   "version": "3.7.10"
  }
 },
 "nbformat": 4,
 "nbformat_minor": 2
}
