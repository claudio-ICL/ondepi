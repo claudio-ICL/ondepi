{
 "cells": [
  {
   "cell_type": "code",
   "execution_count": 1,
   "metadata": {},
   "outputs": [],
   "source": [
    "from ondepi.applications import price_level as pl\n",
    "from ondepi.visualisations import sample as plot_sample\n",
    "from ondepi.resources import utils"
   ]
  },
  {
   "cell_type": "code",
   "execution_count": 2,
   "metadata": {},
   "outputs": [],
   "source": [
    "symbol = 'INTC'\n",
    "date = '2019-01-31'\n",
    "price_level = 466000\n",
    "direction = 1\n",
    "std_size = 500\n",
    "t0 = 2.5e3\n",
    "t1 = 5.25e3\n",
    "reset_time_origin = True"
   ]
  },
  {
   "cell_type": "code",
   "execution_count": 3,
   "metadata": {},
   "outputs": [
    {
     "name": "stderr",
     "output_type": "stream",
     "text": [
      "symbol: INTC\n",
      "date: 2019-01-31\n",
      "direction: 1\n",
      "price_level: 466000\n",
      "std_size: 500\n",
      "reset_time_origin: True\n",
      "\n",
      "Estimated parameters for event type 0:\n",
      "      fun: 21.921165297126834\n",
      " hess_inv: <5x5 LbfgsInvHessProduct with dtype=float64>\n",
      "      jac: array([  2.38167496,  -1.40536401,   0.45845529, -31.92320346,\n",
      "       283.2091784 ])\n",
      "  message: 'CONVERGENCE: REL_REDUCTION_OF_F_<=_FACTR*EPSMCH'\n",
      "     nfev: 38\n",
      "      nit: 12\n",
      "     njev: 38\n",
      "   status: 0\n",
      "  success: True\n",
      "        x: array([ 1.96650403e+00, -3.28491858e+00,  5.19499944e+00,  8.89868715e-03,\n",
      "        1.00000000e-06])\n",
      "\n",
      "Estimated parameters for event type 1:\n",
      "      fun: 425.64188495479675\n",
      " hess_inv: <5x5 LbfgsInvHessProduct with dtype=float64>\n",
      "      jac: array([-5.03413230e-07, -1.78551883e-37, -2.46971448e-07,  3.43895601e-06,\n",
      "       -9.92485468e-07])\n",
      "  message: 'CONVERGENCE: REL_REDUCTION_OF_F_<=_FACTR*EPSMCH'\n",
      "     nfev: 31\n",
      "      nit: 9\n",
      "     njev: 31\n",
      "   status: 0\n",
      "  success: True\n",
      "        x: array([-17.17216153, -72.86714227,   2.03834587,   1.02135504,\n",
      "         0.66404177])\n"
     ]
    }
   ],
   "source": [
    "queue = pl.calibrate_queue_on_lobster_data(\n",
    "    symbol=symbol, date=date,\n",
    "    price_level=price_level, direction=direction, std_size=std_size,\n",
    "    t0=t0, t1=t1, reset_time_origin=reset_time_origin\n",
    ")"
   ]
  },
  {
   "cell_type": "code",
   "execution_count": 4,
   "metadata": {},
   "outputs": [],
   "source": [
    "df_s = queue.get_df_sample()"
   ]
  },
  {
   "cell_type": "code",
   "execution_count": 5,
   "metadata": {},
   "outputs": [
    {
     "data": {
      "text/html": [
       "<div>\n",
       "<style scoped>\n",
       "    .dataframe tbody tr th:only-of-type {\n",
       "        vertical-align: middle;\n",
       "    }\n",
       "\n",
       "    .dataframe tbody tr th {\n",
       "        vertical-align: top;\n",
       "    }\n",
       "\n",
       "    .dataframe thead th {\n",
       "        text-align: right;\n",
       "    }\n",
       "</style>\n",
       "<table border=\"1\" class=\"dataframe\">\n",
       "  <thead>\n",
       "    <tr style=\"text-align: right;\">\n",
       "      <th></th>\n",
       "      <th>time_i</th>\n",
       "      <th>time</th>\n",
       "      <th>event</th>\n",
       "      <th>state</th>\n",
       "      <th>N_D</th>\n",
       "      <th>N_A</th>\n",
       "    </tr>\n",
       "  </thead>\n",
       "  <tbody>\n",
       "    <tr>\n",
       "      <th>0</th>\n",
       "      <td>339606731897</td>\n",
       "      <td>339.606732</td>\n",
       "      <td>1</td>\n",
       "      <td>0</td>\n",
       "      <td>0</td>\n",
       "      <td>1</td>\n",
       "    </tr>\n",
       "    <tr>\n",
       "      <th>1</th>\n",
       "      <td>339607181612</td>\n",
       "      <td>339.607182</td>\n",
       "      <td>1</td>\n",
       "      <td>1</td>\n",
       "      <td>0</td>\n",
       "      <td>2</td>\n",
       "    </tr>\n",
       "    <tr>\n",
       "      <th>2</th>\n",
       "      <td>339607383328</td>\n",
       "      <td>339.607383</td>\n",
       "      <td>1</td>\n",
       "      <td>2</td>\n",
       "      <td>0</td>\n",
       "      <td>3</td>\n",
       "    </tr>\n",
       "    <tr>\n",
       "      <th>3</th>\n",
       "      <td>339607514906</td>\n",
       "      <td>339.607515</td>\n",
       "      <td>0</td>\n",
       "      <td>2</td>\n",
       "      <td>1</td>\n",
       "      <td>3</td>\n",
       "    </tr>\n",
       "    <tr>\n",
       "      <th>4</th>\n",
       "      <td>339607514907</td>\n",
       "      <td>339.607515</td>\n",
       "      <td>0</td>\n",
       "      <td>1</td>\n",
       "      <td>2</td>\n",
       "      <td>3</td>\n",
       "    </tr>\n",
       "    <tr>\n",
       "      <th>...</th>\n",
       "      <td>...</td>\n",
       "      <td>...</td>\n",
       "      <td>...</td>\n",
       "      <td>...</td>\n",
       "      <td>...</td>\n",
       "      <td>...</td>\n",
       "    </tr>\n",
       "    <tr>\n",
       "      <th>597</th>\n",
       "      <td>454754279603</td>\n",
       "      <td>454.754280</td>\n",
       "      <td>0</td>\n",
       "      <td>6</td>\n",
       "      <td>296</td>\n",
       "      <td>302</td>\n",
       "    </tr>\n",
       "    <tr>\n",
       "      <th>598</th>\n",
       "      <td>454754279604</td>\n",
       "      <td>454.754280</td>\n",
       "      <td>0</td>\n",
       "      <td>5</td>\n",
       "      <td>297</td>\n",
       "      <td>302</td>\n",
       "    </tr>\n",
       "    <tr>\n",
       "      <th>599</th>\n",
       "      <td>454754279605</td>\n",
       "      <td>454.754280</td>\n",
       "      <td>0</td>\n",
       "      <td>4</td>\n",
       "      <td>298</td>\n",
       "      <td>302</td>\n",
       "    </tr>\n",
       "    <tr>\n",
       "      <th>600</th>\n",
       "      <td>454790004131</td>\n",
       "      <td>454.790004</td>\n",
       "      <td>0</td>\n",
       "      <td>3</td>\n",
       "      <td>299</td>\n",
       "      <td>302</td>\n",
       "    </tr>\n",
       "    <tr>\n",
       "      <th>601</th>\n",
       "      <td>454790664074</td>\n",
       "      <td>454.790664</td>\n",
       "      <td>0</td>\n",
       "      <td>2</td>\n",
       "      <td>300</td>\n",
       "      <td>302</td>\n",
       "    </tr>\n",
       "  </tbody>\n",
       "</table>\n",
       "<p>602 rows × 6 columns</p>\n",
       "</div>"
      ],
      "text/plain": [
       "           time_i        time  event  state  N_D  N_A\n",
       "0    339606731897  339.606732      1      0    0    1\n",
       "1    339607181612  339.607182      1      1    0    2\n",
       "2    339607383328  339.607383      1      2    0    3\n",
       "3    339607514906  339.607515      0      2    1    3\n",
       "4    339607514907  339.607515      0      1    2    3\n",
       "..            ...         ...    ...    ...  ...  ...\n",
       "597  454754279603  454.754280      0      6  296  302\n",
       "598  454754279604  454.754280      0      5  297  302\n",
       "599  454754279605  454.754280      0      4  298  302\n",
       "600  454790004131  454.790004      0      3  299  302\n",
       "601  454790664074  454.790664      0      2  300  302\n",
       "\n",
       "[602 rows x 6 columns]"
      ]
     },
     "execution_count": 5,
     "metadata": {},
     "output_type": "execute_result"
    }
   ],
   "source": [
    "df_s"
   ]
  },
  {
   "cell_type": "code",
   "execution_count": 6,
   "metadata": {},
   "outputs": [
    {
     "data": {
      "image/png": "[encoded data removed]",
      "text/plain": [
       "<Figure size 720x432 with 1 Axes>"
      ]
     },
     "metadata": {
      "needs_background": "light"
     },
     "output_type": "display_data"
    }
   ],
   "source": [
    "ax = plot_sample.plot_reconstructed_volumes(df_s, time_range=None)"
   ]
  }
 ],
 "metadata": {
  "kernelspec": {
   "display_name": "ondepi",
   "language": "python",
   "name": "ondepi"
  },
  "language_info": {
   "codemirror_mode": {
    "name": "ipython",
    "version": 3
   },
   "file_extension": ".py",
   "mimetype": "text/x-python",
   "name": "python",
   "nbconvert_exporter": "python",
   "pygments_lexer": "ipython3",
   "version": "3.7.10"
  }
 },
 "nbformat": 4,
 "nbformat_minor": 2
}
