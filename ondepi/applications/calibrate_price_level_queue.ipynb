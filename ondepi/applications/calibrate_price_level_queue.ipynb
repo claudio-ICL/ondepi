{
 "cells": [
  {
   "cell_type": "code",
   "execution_count": 1,
   "metadata": {},
   "outputs": [],
   "source": [
    "from ondepi.applications import price_level as pl\n",
    "from ondepi.visualisations import sample as plot_sample\n",
    "from ondepi.resources import utils"
   ]
  },
  {
   "cell_type": "code",
   "execution_count": 7,
   "metadata": {},
   "outputs": [],
   "source": [
    "symbol = 'INTC'\n",
    "date = '2019-01-31'\n",
    "price_level = 466000\n",
    "direction = 1\n",
    "std_size = 300\n",
    "t0 = 2.5e3\n",
    "t1 = 5.25e3\n",
    "reset_time_origin = True"
   ]
  },
  {
   "cell_type": "code",
   "execution_count": 8,
   "metadata": {},
   "outputs": [
    {
     "name": "stderr",
     "output_type": "stream",
     "text": [
      "symbol: INTC\n",
      "date: 2019-01-31\n",
      "direction: 1\n",
      "price_level: 466000\n",
      "std_size: 300\n",
      "reset_time_origin: True\n",
      "\n",
      "Estimated parameters for event type 0:\n",
      "      fun: -1054.761183933202\n",
      " hess_inv: <5x5 LbfgsInvHessProduct with dtype=float64>\n",
      "      jac: array([ 1.81494232e+00,  5.89264545e+00,  4.10350290e-01, -7.54896834e+00,\n",
      "        2.16689759e+04])\n",
      "  message: 'CONVERGENCE: REL_REDUCTION_OF_F_<=_FACTR*EPSMCH'\n",
      "     nfev: 26\n",
      "      nit: 2\n",
      "     njev: 26\n",
      "   status: 0\n",
      "  success: True\n",
      "        x: array([-2.57660282, -0.93667585,  4.42290981,  1.69774941,  1.71631328])\n",
      "\n",
      "Estimated parameters for event type 1:\n",
      "      fun: -300.4967224077634\n",
      " hess_inv: <5x5 LbfgsInvHessProduct with dtype=float64>\n",
      "      jac: array([-7.39529562e-01,  2.13007975e-01,  6.68357274e-02, -6.84297877e-03,\n",
      "        2.09703740e+08])\n",
      "  message: 'CONVERGENCE: REL_REDUCTION_OF_F_<=_FACTR*EPSMCH'\n",
      "     nfev: 93\n",
      "      nit: 54\n",
      "     njev: 93\n",
      "   status: 0\n",
      "  success: True\n",
      "        x: array([-1.69006787e+01,  5.99900400e+01,  5.43212436e-01,  4.81309938e-03,\n",
      "        1.00000000e-07])\n"
     ]
    }
   ],
   "source": [
    "queue = pl.calibrate_queue_on_lobster_data(\n",
    "    symbol=symbol, date=date,\n",
    "    price_level=price_level, direction=direction, std_size=std_size,\n",
    "    t0=t0, t1=t1, reset_time_origin=reset_time_origin\n",
    ")"
   ]
  },
  {
   "cell_type": "code",
   "execution_count": 9,
   "metadata": {},
   "outputs": [],
   "source": [
    "df_s = queue.get_df_sample()"
   ]
  },
  {
   "cell_type": "code",
   "execution_count": 10,
   "metadata": {},
   "outputs": [
    {
     "data": {
      "text/html": [
       "<div>\n",
       "<style scoped>\n",
       "    .dataframe tbody tr th:only-of-type {\n",
       "        vertical-align: middle;\n",
       "    }\n",
       "\n",
       "    .dataframe tbody tr th {\n",
       "        vertical-align: top;\n",
       "    }\n",
       "\n",
       "    .dataframe thead th {\n",
       "        text-align: right;\n",
       "    }\n",
       "</style>\n",
       "<table border=\"1\" class=\"dataframe\">\n",
       "  <thead>\n",
       "    <tr style=\"text-align: right;\">\n",
       "      <th></th>\n",
       "      <th>time_i</th>\n",
       "      <th>time</th>\n",
       "      <th>event</th>\n",
       "      <th>state</th>\n",
       "      <th>N_D</th>\n",
       "      <th>N_A</th>\n",
       "    </tr>\n",
       "  </thead>\n",
       "  <tbody>\n",
       "    <tr>\n",
       "      <th>0</th>\n",
       "      <td>339606729850</td>\n",
       "      <td>339.606730</td>\n",
       "      <td>1</td>\n",
       "      <td>0</td>\n",
       "      <td>0</td>\n",
       "      <td>1</td>\n",
       "    </tr>\n",
       "    <tr>\n",
       "      <th>1</th>\n",
       "      <td>339606747782</td>\n",
       "      <td>339.606748</td>\n",
       "      <td>1</td>\n",
       "      <td>1</td>\n",
       "      <td>0</td>\n",
       "      <td>2</td>\n",
       "    </tr>\n",
       "    <tr>\n",
       "      <th>2</th>\n",
       "      <td>339606747783</td>\n",
       "      <td>339.606748</td>\n",
       "      <td>1</td>\n",
       "      <td>2</td>\n",
       "      <td>0</td>\n",
       "      <td>3</td>\n",
       "    </tr>\n",
       "    <tr>\n",
       "      <th>3</th>\n",
       "      <td>339606794829</td>\n",
       "      <td>339.606795</td>\n",
       "      <td>0</td>\n",
       "      <td>2</td>\n",
       "      <td>1</td>\n",
       "      <td>3</td>\n",
       "    </tr>\n",
       "    <tr>\n",
       "      <th>4</th>\n",
       "      <td>339607181612</td>\n",
       "      <td>339.607182</td>\n",
       "      <td>1</td>\n",
       "      <td>3</td>\n",
       "      <td>1</td>\n",
       "      <td>4</td>\n",
       "    </tr>\n",
       "    <tr>\n",
       "      <th>...</th>\n",
       "      <td>...</td>\n",
       "      <td>...</td>\n",
       "      <td>...</td>\n",
       "      <td>...</td>\n",
       "      <td>...</td>\n",
       "      <td>...</td>\n",
       "    </tr>\n",
       "    <tr>\n",
       "      <th>998</th>\n",
       "      <td>454754279606</td>\n",
       "      <td>454.754280</td>\n",
       "      <td>0</td>\n",
       "      <td>7</td>\n",
       "      <td>496</td>\n",
       "      <td>503</td>\n",
       "    </tr>\n",
       "    <tr>\n",
       "      <th>999</th>\n",
       "      <td>454754279607</td>\n",
       "      <td>454.754280</td>\n",
       "      <td>0</td>\n",
       "      <td>6</td>\n",
       "      <td>497</td>\n",
       "      <td>503</td>\n",
       "    </tr>\n",
       "    <tr>\n",
       "      <th>1000</th>\n",
       "      <td>454790004131</td>\n",
       "      <td>454.790004</td>\n",
       "      <td>0</td>\n",
       "      <td>5</td>\n",
       "      <td>498</td>\n",
       "      <td>503</td>\n",
       "    </tr>\n",
       "    <tr>\n",
       "      <th>1001</th>\n",
       "      <td>454790664074</td>\n",
       "      <td>454.790664</td>\n",
       "      <td>0</td>\n",
       "      <td>4</td>\n",
       "      <td>499</td>\n",
       "      <td>503</td>\n",
       "    </tr>\n",
       "    <tr>\n",
       "      <th>1002</th>\n",
       "      <td>454790664075</td>\n",
       "      <td>454.790664</td>\n",
       "      <td>0</td>\n",
       "      <td>3</td>\n",
       "      <td>500</td>\n",
       "      <td>503</td>\n",
       "    </tr>\n",
       "  </tbody>\n",
       "</table>\n",
       "<p>1003 rows × 6 columns</p>\n",
       "</div>"
      ],
      "text/plain": [
       "            time_i        time  event  state  N_D  N_A\n",
       "0     339606729850  339.606730      1      0    0    1\n",
       "1     339606747782  339.606748      1      1    0    2\n",
       "2     339606747783  339.606748      1      2    0    3\n",
       "3     339606794829  339.606795      0      2    1    3\n",
       "4     339607181612  339.607182      1      3    1    4\n",
       "...            ...         ...    ...    ...  ...  ...\n",
       "998   454754279606  454.754280      0      7  496  503\n",
       "999   454754279607  454.754280      0      6  497  503\n",
       "1000  454790004131  454.790004      0      5  498  503\n",
       "1001  454790664074  454.790664      0      4  499  503\n",
       "1002  454790664075  454.790664      0      3  500  503\n",
       "\n",
       "[1003 rows x 6 columns]"
      ]
     },
     "execution_count": 10,
     "metadata": {},
     "output_type": "execute_result"
    }
   ],
   "source": [
    "df_s"
   ]
  },
  {
   "cell_type": "code",
   "execution_count": 11,
   "metadata": {},
   "outputs": [
    {
     "data": {
      "image/png": "[encoded data removed]",
      "text/plain": [
       "<Figure size 720x432 with 1 Axes>"
      ]
     },
     "metadata": {
      "needs_background": "light"
     },
     "output_type": "display_data"
    }
   ],
   "source": [
    "ax = plot_sample.plot_reconstructed_volumes(df_s, time_range=None)"
   ]
  },
  {
   "cell_type": "code",
   "execution_count": null,
   "metadata": {},
   "outputs": [],
   "source": []
  }
 ],
 "metadata": {
  "kernelspec": {
   "display_name": "ondepi",
   "language": "python",
   "name": "ondepi"
  },
  "language_info": {
   "codemirror_mode": {
    "name": "ipython",
    "version": 3
   },
   "file_extension": ".py",
   "mimetype": "text/x-python",
   "name": "python",
   "nbconvert_exporter": "python",
   "pygments_lexer": "ipython3",
   "version": "3.7.10"
  }
 },
 "nbformat": 4,
 "nbformat_minor": 2
}
