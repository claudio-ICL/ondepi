{
 "cells": [
  {
   "cell_type": "code",
   "execution_count": null,
   "metadata": {},
   "outputs": [],
   "source": [
    "from ondepi.applications import price_level as pl\n",
    "from ondepi.visualisations import sample as plot_sample\n",
    "from ondepi.resources import utils\n",
    "import pandas as pd"
   ]
  },
  {
   "cell_type": "code",
   "execution_count": null,
   "metadata": {},
   "outputs": [],
   "source": [
    "symbol = 'INTC'\n",
    "date = '2019-01-31'\n",
    "price_levels = list(range(465000, 466100, 100))\n",
    "direction = 1\n",
    "std_size = 500\n",
    "t0 = 1.05e3\n",
    "t1 = 1.50e3\n",
    "reset_time_origin = True"
   ]
  },
  {
   "cell_type": "code",
   "execution_count": null,
   "metadata": {},
   "outputs": [],
   "source": [
    "lob = []\n",
    "for price_level in price_levels:\n",
    "    queue = pl.init_queue_on_lobster_data(\n",
    "        symbol=symbol, date=date,\n",
    "        price_level=price_level, direction=direction, std_size=std_size,\n",
    "        t0=t0, t1=t1, reset_time_origin=reset_time_origin\n",
    "    )\n",
    "    queue = pl.set_param(queue)\n",
    "    lob.append(queue)"
   ]
  },
  {
   "cell_type": "code",
   "execution_count": null,
   "metadata": {},
   "outputs": [],
   "source": [
    "for queue in lob:\n",
    "    queue.simulate(max_time=1.0e3, max_events=1000, first_event=1, first_state=5)\n",
    "    queue.filter(dt=7.5e-3, num_states=100)"
   ]
  },
  {
   "cell_type": "code",
   "execution_count": null,
   "metadata": {},
   "outputs": [],
   "source": [
    "dfs = []\n",
    "for queue, price_level in zip(lob, price_levels):\n",
    "    dfs.append(\n",
    "        pl.produce_df_detection(queue, beta=150.5, price_level=price_level, event_times_only=False))"
   ]
  },
  {
   "cell_type": "code",
   "execution_count": null,
   "metadata": {},
   "outputs": [],
   "source": [
    "df_all = dfs[0].copy().set_index((price_levels[0], 'idx'))\n",
    "for df, price_level in zip(dfs[1:], price_levels[1:]):\n",
    "    df = df.set_index((price_level, 'idx'))\n",
    "    df_all = df_all.merge(df, left_index=True, right_index=True, how='outer')\n",
    "df_all.sort_index(axis=0, inplace=True)\n",
    "df_all.ffill(inplace=True)"
   ]
  },
  {
   "cell_type": "code",
   "execution_count": null,
   "metadata": {},
   "outputs": [],
   "source": [
    "df_sum = df_all[price_levels[0]].loc[:, ['state', 'predictor', 'error', 'detector']].copy()\n",
    "for price_level in price_levels[1:]:\n",
    "    df_sum += df_all[price_level].loc[:, ['state', 'predictor', 'error', 'detector']]\n",
    "df_sum = df_sum.merge(df_all[price_levels[0]].loc[:, ['time sample', 'time filter']], \n",
    "                      left_index=True, right_index=True)"
   ]
  },
  {
   "cell_type": "code",
   "execution_count": null,
   "metadata": {},
   "outputs": [],
   "source": [
    "plot_sample.plot_impact(df_sum, time_range=(5, 500), title='Price impact', std_size=std_size, label='Price impact')"
   ]
  }
 ],
 "metadata": {
  "kernelspec": {
   "display_name": "ondepi",
   "language": "python",
   "name": "ondepi"
  },
  "language_info": {
   "codemirror_mode": {
    "name": "ipython",
    "version": 3
   },
   "file_extension": ".py",
   "mimetype": "text/x-python",
   "name": "python",
   "nbconvert_exporter": "python",
   "pygments_lexer": "ipython3",
   "version": "3.7.10"
  }
 },
 "nbformat": 4,
 "nbformat_minor": 2
}
